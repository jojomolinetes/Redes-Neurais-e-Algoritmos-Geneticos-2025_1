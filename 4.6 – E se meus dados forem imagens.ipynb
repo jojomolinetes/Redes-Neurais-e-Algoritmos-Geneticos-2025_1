{
 "cells": [
  {
   "cell_type": "markdown",
   "id": "6c34d014",
   "metadata": {},
   "source": [
    "# 4.6 E se meus dados forem imagens?\n",
    "\n",
    "**Nome: Joana de Medeiros Oliveira Hulse Molinete**"
   ]
  },
  {
   "cell_type": "markdown",
   "id": "b261de6d",
   "metadata": {},
   "source": [
    "### Introdução:\n",
    "\n",
    "Redes neurais convolucionais diferem das redes neurais tradicionais porque aplicam um tipo de aprendizado hierarquizado dos dados de entrada, ou seja, aprendem de forma gradual, dividindo a entrada recebida em setores que serão processados cada vez mais correlacionadamente. Por isso, uma rede neural convolucional é uma ótima abordagem para dados que possuem correlação, assim a CNN vai ter sua melhor performance. \n",
    "\n",
    "Uma rede neural convolucional trabalha de forma diferente de uma MLP normal, por exemplo, já que possui 3 principais formatos de camadas de neurônios, que são repetidas até a camada final. A primeira camada é a camada de convolução, onde cada neurônio vai ter uma pequena área do dado de entrada (imagem, vídeo, áudio, ...) que será \"varrido\" por um filtro (kernel) - uma matriz de dimensão pequena - e tem como objetivo identificar e extrair características da entrada. Após esse processo, chamado de convolução, a saída da camada será um mapa de características, ou seja, uma matriz 2d das informações extraídas da entrada.\n",
    "\n",
    "Imediatamente depois da camada de convolução vem uma função de ativação, tipicamente ReLU, para implementar a não-linearidade aos dados de saída. Ao adicionarmos não-linearidade aos dados, garantimos que a rede modele relacionamentos complexos, distinguindo diferentes características, o que facilita o treinamento e melhora a robustez ao ruído.\n",
    "\n",
    "Após a camada de ativação, temos a camada de agrupamento, que filtra a saída da camada de convolução com um kernel sem pesos associados, identificando as características principais da saída e reduzindo a dimensão dos dados. \n",
    "\n",
    "Essas camadas são intercaladas diversas vezes, até que por fim cheguem a camada densa (ou fully connected layer) da rede neural. Como o nome indica, todos os neurônios da camada anterior a ela são ligados a todos os neurônios da camada final, que achatam as pilhas de saída das camadas anteriores e realizam tarefas de classificação de acordo com todo o aprendizado acumulado até lá."
   ]
  },
  {
   "cell_type": "markdown",
   "id": "0eb3c3fa",
   "metadata": {},
   "source": [
    "### Camada de convolução:\n",
    "\n",
    "Os processos de uma CNN são realizados por meio de produtos de matrizes, em sua maioria. A função de uma camada de convolução é extrair padrões locais da imagem, que de acordo com o aprofundamento das camadas vão se relacionando cada vez mais, cobrindo toda a imagem de forma que a rede aprenda a identificar padrões globais.\n",
    "\n",
    "A camada de convolução conta com alguns parâmetros importantes: o filtro, que é uma matriz quadrada de tamanho menor do que a entrada do neurônio, com pesos em cada posição, que são aprendidos e aprimorados durante o treinamento da rede; o stride, que nada mais é do que o número de pixels que o filtro se move por vez; e o número de filtros que serão aplicados na entrada, que nos dirá os padrões a serem aprendidos, e no fim, quantos mapas de ativação teremos como saída da camada.\n",
    "\n",
    "A rede aprende a identificar padrões na entrada por meio de um processo chamado de convolução, que nada mais é do que deslocar o filtro por toda entrada, se movendo de acordo com o stride defininido. Como dito, o filtro é uma matriz quadrada com diferentes pesos, e a entrada de cada neurônio também será uma matriz, dessa forma, o filtro varre toda a entrada fazendo o produto elemento a elemento, que no fim serão somados a cada nova posição do filtro, fornecendo apenas um valor equivalente a aquela área em que estava posicionado. No fim, teremos uma matriz de mesmo tamanho que a entrada, com seus valores calculados de acordo com os pesos do filtro aplicado, que é chamado de mapa de ativação (feature map) com os dados tratados.\n",
    "\n",
    "Após várias camadas de convolução, a rede começa a aprender padrões mais complexos da entrada e a cobrir áreas cada vez maiores da imagem, até que consiga correlacionar os dados antes separados. "
   ]
  },
  {
   "cell_type": "markdown",
   "id": "032af3c4",
   "metadata": {},
   "source": [
    "## Instalando os modos e bibliotecas necessárias:"
   ]
  },
  {
   "cell_type": "code",
   "execution_count": 1,
   "id": "5fc56b43",
   "metadata": {},
   "outputs": [],
   "source": [
    "import numpy as np\n",
    "import torch\n",
    "import torch.nn.functional as functional\n",
    "import torchvision.datasets as datasets\n",
    "import torchvision.transforms as transforms\n",
    "from torch import optim\n",
    "from torch import nn\n",
    "from torch.utils.data import DataLoader\n",
    "from torchmetrics import Accuracy\n",
    "from torchmetrics import Precision\n",
    "from tqdm import tqdm"
   ]
  },
  {
   "cell_type": "markdown",
   "id": "cc0bf26b",
   "metadata": {},
   "source": [
    "## Definindo as camadas e funcionamento da nossa rede neural:\n",
    "\n",
    "Note que aqui, usaremos a biblioteca PyTorch para definir, treinar e testar nossa CNN. A função de ativação que será utilizada é a Softmax [1], que transforma os logits (a saída da última camada da rede) em distribuições de probabilidade. Como estamos trabalhando com um problema de multiclassificação, a função Softmax é a mais adequada, já que vai não só indicar qual é a provável classe do dado (números de 0 a 9), mas também o quão \"certa\" a rede está sobre a decisão que será tomada, ou seja, ela vai retornar a distribuição de probabilidades entre todas as classes da rede."
   ]
  },
  {
   "cell_type": "code",
   "execution_count": 2,
   "id": "b20a6f63",
   "metadata": {},
   "outputs": [],
   "source": [
    "class CNN(nn.Module):\n",
    "    def __init__(self, num_dados_entrada, num_classes=10):\n",
    "        super().__init__()\n",
    "        \n",
    "        self.camadas = nn.Sequential(\n",
    "            # primeira camada de convolução:1 dado de entrada (a imagem), 8 dados de saída, kernel 3x3\n",
    "            nn.Conv2d(in_channels=num_dados_entrada, out_channels=8, kernel_size=3, stride=1, padding=1),\n",
    "            # função de ativação ReLU:\n",
    "            nn.ReLU(),\n",
    "            # primeira camada de agrupamento: usando Max pooling, com um kernel 2x2\n",
    "            nn.MaxPool2d(kernel_size=2, stride=2),\n",
    "            \n",
    "            # segunda camada de convolução: 8 dados de entrada, 16 dados de saída, kernel 3x3\n",
    "            nn.Conv2d(in_channels=8, out_channels=16, kernel_size=3, stride=1, padding=1),\n",
    "            nn.ReLU(),\n",
    "            nn.MaxPool2d(kernel_size=2, stride=2)\n",
    "        )\n",
    "        \n",
    "        # camada densa: dados de entrada com dimensões 16*7*7 depois de duas reduções por agrupamento (28->14->7), 10 possibilidades de saída (0 a 10)\n",
    "        self.fc = nn.Linear(16 * 7 * 7, num_classes)\n",
    "    \n",
    "    def forward(self, x):\n",
    "        x = self.camadas(x)\n",
    "        x = torch.flatten(x, 1) # achata os dados para um vetor de tamanho 784 (a entrada precisa ser 1D) \n",
    "        x = self.fc(x)\n",
    "        x = functional.softmax(x, dim=1)\n",
    "        return x"
   ]
  },
  {
   "cell_type": "markdown",
   "id": "4a714226",
   "metadata": {},
   "source": [
    "**Será necessário utilizar o GPU da máquina para que o treinamento não demore muito. Abaixo, transferimos os dados para GPU, caso disponível, senão, continuamos utilizando a CPU.**"
   ]
  },
  {
   "cell_type": "code",
   "execution_count": 3,
   "id": "4a8ff3b8",
   "metadata": {},
   "outputs": [],
   "source": [
    "device = torch.device(\"cuda\" if torch.cuda.is_available() else \"cpu\")"
   ]
  },
  {
   "cell_type": "markdown",
   "id": "71428868",
   "metadata": {},
   "source": [
    "**Definindo os hiperparâmetros da nossa rede neural:**"
   ]
  },
  {
   "cell_type": "code",
   "execution_count": 4,
   "id": "cd3c3b79",
   "metadata": {},
   "outputs": [],
   "source": [
    "entrada = 784 # 28x28 pixels\n",
    "num_classes = 10 # 0-9\n",
    "taxa_aprendizado = 0.001\n",
    "tamanho_lote = 64\n",
    "num_epocas = 60"
   ]
  },
  {
   "cell_type": "markdown",
   "id": "1681caee",
   "metadata": {},
   "source": [
    "**Importando o dataset que será utilizado:** \n",
    "\n",
    "Utilizaremos o dataset MNIST, muito popular para problemas de classificação multiclasse de imagens, já que possui uma base de dados de imagens de caracteres escritos a mão."
   ]
  },
  {
   "cell_type": "code",
   "execution_count": 5,
   "id": "dd13928f",
   "metadata": {},
   "outputs": [],
   "source": [
    "transform = transforms.Compose([transforms.ToTensor(), transforms.Normalize((0.1307,),(0.3081,))])\n",
    "# normalizamos entre 0.1307 (média dos pixels do MNIST) e 0.3081 (desvio padrão dos pixels do MNIST)\n",
    "\n",
    "dataset_treino = datasets.MNIST(root='dataset/', download=True, train=True, transform=transform)\n",
    "carrega_dados_treino = DataLoader(dataset=dataset_treino, batch_size=tamanho_lote, shuffle=True)\n",
    "\n",
    "dataset_teste = datasets.MNIST(root='dataset/', download=True, train=False, transform=transform)\n",
    "carrega_dados_teste = DataLoader(dataset=dataset_teste, batch_size=tamanho_lote, shuffle=True)"
   ]
  },
  {
   "cell_type": "code",
   "execution_count": 6,
   "id": "d57b5b16",
   "metadata": {},
   "outputs": [],
   "source": [
    "minha_cnn = CNN(num_dados_entrada=1, num_classes=num_classes).to(device)"
   ]
  },
  {
   "cell_type": "markdown",
   "id": "0f62455c",
   "metadata": {},
   "source": [
    "**Aqui, definimos a função de perda sendo a Perda de Entropia Cruzada (Cross Entropy Loss), visto que o problema abordado pelo algoritmo será de classificação.**"
   ]
  },
  {
   "cell_type": "code",
   "execution_count": 7,
   "id": "2fe432c4",
   "metadata": {},
   "outputs": [],
   "source": [
    "funcao_perda = nn.CrossEntropyLoss()\n",
    "otimizador = optim.SGD(minha_cnn.parameters(), lr=taxa_aprendizado)"
   ]
  },
  {
   "cell_type": "markdown",
   "id": "ceea287c",
   "metadata": {},
   "source": [
    "## Treinando a rede neural convolucional:"
   ]
  },
  {
   "cell_type": "code",
   "execution_count": 8,
   "id": "a0976445",
   "metadata": {
    "scrolled": true
   },
   "outputs": [
    {
     "name": "stdout",
     "output_type": "stream",
     "text": [
      "Epoca: [1/60]\n"
     ]
    },
    {
     "name": "stderr",
     "output_type": "stream",
     "text": [
      "100%|████████████████████████████████████████████████████████████████████████████████| 938/938 [00:20<00:00, 45.06it/s]\n"
     ]
    },
    {
     "name": "stdout",
     "output_type": "stream",
     "text": [
      "Epoca: [2/60]\n"
     ]
    },
    {
     "name": "stderr",
     "output_type": "stream",
     "text": [
      "100%|████████████████████████████████████████████████████████████████████████████████| 938/938 [00:20<00:00, 46.49it/s]\n"
     ]
    },
    {
     "name": "stdout",
     "output_type": "stream",
     "text": [
      "Epoca: [3/60]\n"
     ]
    },
    {
     "name": "stderr",
     "output_type": "stream",
     "text": [
      "100%|████████████████████████████████████████████████████████████████████████████████| 938/938 [00:19<00:00, 46.95it/s]\n"
     ]
    },
    {
     "name": "stdout",
     "output_type": "stream",
     "text": [
      "Epoca: [4/60]\n"
     ]
    },
    {
     "name": "stderr",
     "output_type": "stream",
     "text": [
      "100%|████████████████████████████████████████████████████████████████████████████████| 938/938 [00:20<00:00, 45.73it/s]\n"
     ]
    },
    {
     "name": "stdout",
     "output_type": "stream",
     "text": [
      "Epoca: [5/60]\n"
     ]
    },
    {
     "name": "stderr",
     "output_type": "stream",
     "text": [
      "100%|████████████████████████████████████████████████████████████████████████████████| 938/938 [00:20<00:00, 45.67it/s]\n"
     ]
    },
    {
     "name": "stdout",
     "output_type": "stream",
     "text": [
      "Epoca: [6/60]\n"
     ]
    },
    {
     "name": "stderr",
     "output_type": "stream",
     "text": [
      "100%|████████████████████████████████████████████████████████████████████████████████| 938/938 [00:20<00:00, 44.93it/s]\n"
     ]
    },
    {
     "name": "stdout",
     "output_type": "stream",
     "text": [
      "Epoca: [7/60]\n"
     ]
    },
    {
     "name": "stderr",
     "output_type": "stream",
     "text": [
      "100%|████████████████████████████████████████████████████████████████████████████████| 938/938 [00:20<00:00, 45.05it/s]\n"
     ]
    },
    {
     "name": "stdout",
     "output_type": "stream",
     "text": [
      "Epoca: [8/60]\n"
     ]
    },
    {
     "name": "stderr",
     "output_type": "stream",
     "text": [
      "100%|████████████████████████████████████████████████████████████████████████████████| 938/938 [00:20<00:00, 45.29it/s]\n"
     ]
    },
    {
     "name": "stdout",
     "output_type": "stream",
     "text": [
      "Epoca: [9/60]\n"
     ]
    },
    {
     "name": "stderr",
     "output_type": "stream",
     "text": [
      "100%|████████████████████████████████████████████████████████████████████████████████| 938/938 [00:20<00:00, 45.45it/s]\n"
     ]
    },
    {
     "name": "stdout",
     "output_type": "stream",
     "text": [
      "Epoca: [10/60]\n"
     ]
    },
    {
     "name": "stderr",
     "output_type": "stream",
     "text": [
      "100%|████████████████████████████████████████████████████████████████████████████████| 938/938 [00:20<00:00, 45.26it/s]\n"
     ]
    },
    {
     "name": "stdout",
     "output_type": "stream",
     "text": [
      "Epoca: [11/60]\n"
     ]
    },
    {
     "name": "stderr",
     "output_type": "stream",
     "text": [
      "100%|████████████████████████████████████████████████████████████████████████████████| 938/938 [00:20<00:00, 45.55it/s]\n"
     ]
    },
    {
     "name": "stdout",
     "output_type": "stream",
     "text": [
      "Epoca: [12/60]\n"
     ]
    },
    {
     "name": "stderr",
     "output_type": "stream",
     "text": [
      "100%|████████████████████████████████████████████████████████████████████████████████| 938/938 [00:20<00:00, 44.67it/s]\n"
     ]
    },
    {
     "name": "stdout",
     "output_type": "stream",
     "text": [
      "Epoca: [13/60]\n"
     ]
    },
    {
     "name": "stderr",
     "output_type": "stream",
     "text": [
      "100%|████████████████████████████████████████████████████████████████████████████████| 938/938 [00:20<00:00, 44.97it/s]\n"
     ]
    },
    {
     "name": "stdout",
     "output_type": "stream",
     "text": [
      "Epoca: [14/60]\n"
     ]
    },
    {
     "name": "stderr",
     "output_type": "stream",
     "text": [
      "100%|████████████████████████████████████████████████████████████████████████████████| 938/938 [00:21<00:00, 44.32it/s]\n"
     ]
    },
    {
     "name": "stdout",
     "output_type": "stream",
     "text": [
      "Epoca: [15/60]\n"
     ]
    },
    {
     "name": "stderr",
     "output_type": "stream",
     "text": [
      "100%|████████████████████████████████████████████████████████████████████████████████| 938/938 [00:20<00:00, 45.43it/s]\n"
     ]
    },
    {
     "name": "stdout",
     "output_type": "stream",
     "text": [
      "Epoca: [16/60]\n"
     ]
    },
    {
     "name": "stderr",
     "output_type": "stream",
     "text": [
      "100%|████████████████████████████████████████████████████████████████████████████████| 938/938 [00:20<00:00, 45.49it/s]\n"
     ]
    },
    {
     "name": "stdout",
     "output_type": "stream",
     "text": [
      "Epoca: [17/60]\n"
     ]
    },
    {
     "name": "stderr",
     "output_type": "stream",
     "text": [
      "100%|████████████████████████████████████████████████████████████████████████████████| 938/938 [00:20<00:00, 45.30it/s]\n"
     ]
    },
    {
     "name": "stdout",
     "output_type": "stream",
     "text": [
      "Epoca: [18/60]\n"
     ]
    },
    {
     "name": "stderr",
     "output_type": "stream",
     "text": [
      "100%|████████████████████████████████████████████████████████████████████████████████| 938/938 [00:20<00:00, 44.74it/s]\n"
     ]
    },
    {
     "name": "stdout",
     "output_type": "stream",
     "text": [
      "Epoca: [19/60]\n"
     ]
    },
    {
     "name": "stderr",
     "output_type": "stream",
     "text": [
      "100%|████████████████████████████████████████████████████████████████████████████████| 938/938 [00:20<00:00, 45.49it/s]\n"
     ]
    },
    {
     "name": "stdout",
     "output_type": "stream",
     "text": [
      "Epoca: [20/60]\n"
     ]
    },
    {
     "name": "stderr",
     "output_type": "stream",
     "text": [
      "100%|████████████████████████████████████████████████████████████████████████████████| 938/938 [00:20<00:00, 45.33it/s]\n"
     ]
    },
    {
     "name": "stdout",
     "output_type": "stream",
     "text": [
      "Epoca: [21/60]\n"
     ]
    },
    {
     "name": "stderr",
     "output_type": "stream",
     "text": [
      "100%|████████████████████████████████████████████████████████████████████████████████| 938/938 [00:20<00:00, 44.90it/s]\n"
     ]
    },
    {
     "name": "stdout",
     "output_type": "stream",
     "text": [
      "Epoca: [22/60]\n"
     ]
    },
    {
     "name": "stderr",
     "output_type": "stream",
     "text": [
      "100%|████████████████████████████████████████████████████████████████████████████████| 938/938 [00:21<00:00, 44.21it/s]\n"
     ]
    },
    {
     "name": "stdout",
     "output_type": "stream",
     "text": [
      "Epoca: [23/60]\n"
     ]
    },
    {
     "name": "stderr",
     "output_type": "stream",
     "text": [
      "100%|████████████████████████████████████████████████████████████████████████████████| 938/938 [00:20<00:00, 45.37it/s]\n"
     ]
    },
    {
     "name": "stdout",
     "output_type": "stream",
     "text": [
      "Epoca: [24/60]\n"
     ]
    },
    {
     "name": "stderr",
     "output_type": "stream",
     "text": [
      "100%|████████████████████████████████████████████████████████████████████████████████| 938/938 [00:20<00:00, 45.69it/s]\n"
     ]
    },
    {
     "name": "stdout",
     "output_type": "stream",
     "text": [
      "Epoca: [25/60]\n"
     ]
    },
    {
     "name": "stderr",
     "output_type": "stream",
     "text": [
      "100%|████████████████████████████████████████████████████████████████████████████████| 938/938 [00:20<00:00, 44.76it/s]\n"
     ]
    },
    {
     "name": "stdout",
     "output_type": "stream",
     "text": [
      "Epoca: [26/60]\n"
     ]
    },
    {
     "name": "stderr",
     "output_type": "stream",
     "text": [
      "100%|████████████████████████████████████████████████████████████████████████████████| 938/938 [00:21<00:00, 43.46it/s]\n"
     ]
    },
    {
     "name": "stdout",
     "output_type": "stream",
     "text": [
      "Epoca: [27/60]\n"
     ]
    },
    {
     "name": "stderr",
     "output_type": "stream",
     "text": [
      "100%|████████████████████████████████████████████████████████████████████████████████| 938/938 [00:21<00:00, 43.91it/s]\n"
     ]
    },
    {
     "name": "stdout",
     "output_type": "stream",
     "text": [
      "Epoca: [28/60]\n"
     ]
    },
    {
     "name": "stderr",
     "output_type": "stream",
     "text": [
      "100%|████████████████████████████████████████████████████████████████████████████████| 938/938 [00:21<00:00, 43.98it/s]\n"
     ]
    },
    {
     "name": "stdout",
     "output_type": "stream",
     "text": [
      "Epoca: [29/60]\n"
     ]
    },
    {
     "name": "stderr",
     "output_type": "stream",
     "text": [
      "100%|████████████████████████████████████████████████████████████████████████████████| 938/938 [00:21<00:00, 44.23it/s]\n"
     ]
    },
    {
     "name": "stdout",
     "output_type": "stream",
     "text": [
      "Epoca: [30/60]\n"
     ]
    },
    {
     "name": "stderr",
     "output_type": "stream",
     "text": [
      "100%|████████████████████████████████████████████████████████████████████████████████| 938/938 [00:21<00:00, 43.54it/s]\n"
     ]
    },
    {
     "name": "stdout",
     "output_type": "stream",
     "text": [
      "Epoca: [31/60]\n"
     ]
    },
    {
     "name": "stderr",
     "output_type": "stream",
     "text": [
      "100%|████████████████████████████████████████████████████████████████████████████████| 938/938 [00:21<00:00, 44.26it/s]\n"
     ]
    },
    {
     "name": "stdout",
     "output_type": "stream",
     "text": [
      "Epoca: [32/60]\n"
     ]
    },
    {
     "name": "stderr",
     "output_type": "stream",
     "text": [
      "100%|████████████████████████████████████████████████████████████████████████████████| 938/938 [00:21<00:00, 43.78it/s]\n"
     ]
    },
    {
     "name": "stdout",
     "output_type": "stream",
     "text": [
      "Epoca: [33/60]\n"
     ]
    },
    {
     "name": "stderr",
     "output_type": "stream",
     "text": [
      "100%|████████████████████████████████████████████████████████████████████████████████| 938/938 [00:20<00:00, 44.82it/s]\n"
     ]
    },
    {
     "name": "stdout",
     "output_type": "stream",
     "text": [
      "Epoca: [34/60]\n"
     ]
    },
    {
     "name": "stderr",
     "output_type": "stream",
     "text": [
      "100%|████████████████████████████████████████████████████████████████████████████████| 938/938 [00:20<00:00, 45.25it/s]\n"
     ]
    },
    {
     "name": "stdout",
     "output_type": "stream",
     "text": [
      "Epoca: [35/60]\n"
     ]
    },
    {
     "name": "stderr",
     "output_type": "stream",
     "text": [
      "100%|████████████████████████████████████████████████████████████████████████████████| 938/938 [00:21<00:00, 44.14it/s]\n"
     ]
    },
    {
     "name": "stdout",
     "output_type": "stream",
     "text": [
      "Epoca: [36/60]\n"
     ]
    },
    {
     "name": "stderr",
     "output_type": "stream",
     "text": [
      "100%|████████████████████████████████████████████████████████████████████████████████| 938/938 [00:21<00:00, 43.76it/s]\n"
     ]
    },
    {
     "name": "stdout",
     "output_type": "stream",
     "text": [
      "Epoca: [37/60]\n"
     ]
    },
    {
     "name": "stderr",
     "output_type": "stream",
     "text": [
      "100%|████████████████████████████████████████████████████████████████████████████████| 938/938 [00:20<00:00, 45.14it/s]\n"
     ]
    },
    {
     "name": "stdout",
     "output_type": "stream",
     "text": [
      "Epoca: [38/60]\n"
     ]
    },
    {
     "name": "stderr",
     "output_type": "stream",
     "text": [
      "100%|████████████████████████████████████████████████████████████████████████████████| 938/938 [00:20<00:00, 45.84it/s]\n"
     ]
    },
    {
     "name": "stdout",
     "output_type": "stream",
     "text": [
      "Epoca: [39/60]\n"
     ]
    },
    {
     "name": "stderr",
     "output_type": "stream",
     "text": [
      "100%|████████████████████████████████████████████████████████████████████████████████| 938/938 [00:21<00:00, 44.17it/s]\n"
     ]
    },
    {
     "name": "stdout",
     "output_type": "stream",
     "text": [
      "Epoca: [40/60]\n"
     ]
    },
    {
     "name": "stderr",
     "output_type": "stream",
     "text": [
      "100%|████████████████████████████████████████████████████████████████████████████████| 938/938 [00:21<00:00, 43.91it/s]\n"
     ]
    },
    {
     "name": "stdout",
     "output_type": "stream",
     "text": [
      "Epoca: [41/60]\n"
     ]
    },
    {
     "name": "stderr",
     "output_type": "stream",
     "text": [
      "100%|████████████████████████████████████████████████████████████████████████████████| 938/938 [00:21<00:00, 43.89it/s]\n"
     ]
    },
    {
     "name": "stdout",
     "output_type": "stream",
     "text": [
      "Epoca: [42/60]\n"
     ]
    },
    {
     "name": "stderr",
     "output_type": "stream",
     "text": [
      "100%|████████████████████████████████████████████████████████████████████████████████| 938/938 [00:21<00:00, 44.30it/s]\n"
     ]
    },
    {
     "name": "stdout",
     "output_type": "stream",
     "text": [
      "Epoca: [43/60]\n"
     ]
    },
    {
     "name": "stderr",
     "output_type": "stream",
     "text": [
      "100%|████████████████████████████████████████████████████████████████████████████████| 938/938 [00:20<00:00, 45.21it/s]\n"
     ]
    },
    {
     "name": "stdout",
     "output_type": "stream",
     "text": [
      "Epoca: [44/60]\n"
     ]
    },
    {
     "name": "stderr",
     "output_type": "stream",
     "text": [
      "100%|████████████████████████████████████████████████████████████████████████████████| 938/938 [00:21<00:00, 43.32it/s]\n"
     ]
    },
    {
     "name": "stdout",
     "output_type": "stream",
     "text": [
      "Epoca: [45/60]\n"
     ]
    },
    {
     "name": "stderr",
     "output_type": "stream",
     "text": [
      "100%|████████████████████████████████████████████████████████████████████████████████| 938/938 [00:21<00:00, 44.45it/s]\n"
     ]
    },
    {
     "name": "stdout",
     "output_type": "stream",
     "text": [
      "Epoca: [46/60]\n"
     ]
    },
    {
     "name": "stderr",
     "output_type": "stream",
     "text": [
      "100%|████████████████████████████████████████████████████████████████████████████████| 938/938 [00:21<00:00, 43.69it/s]\n"
     ]
    },
    {
     "name": "stdout",
     "output_type": "stream",
     "text": [
      "Epoca: [47/60]\n"
     ]
    },
    {
     "name": "stderr",
     "output_type": "stream",
     "text": [
      "100%|████████████████████████████████████████████████████████████████████████████████| 938/938 [00:21<00:00, 44.47it/s]\n"
     ]
    },
    {
     "name": "stdout",
     "output_type": "stream",
     "text": [
      "Epoca: [48/60]\n"
     ]
    },
    {
     "name": "stderr",
     "output_type": "stream",
     "text": [
      "100%|████████████████████████████████████████████████████████████████████████████████| 938/938 [00:21<00:00, 43.03it/s]\n"
     ]
    },
    {
     "name": "stdout",
     "output_type": "stream",
     "text": [
      "Epoca: [49/60]\n"
     ]
    },
    {
     "name": "stderr",
     "output_type": "stream",
     "text": [
      "100%|████████████████████████████████████████████████████████████████████████████████| 938/938 [00:21<00:00, 44.39it/s]\n"
     ]
    },
    {
     "name": "stdout",
     "output_type": "stream",
     "text": [
      "Epoca: [50/60]\n"
     ]
    },
    {
     "name": "stderr",
     "output_type": "stream",
     "text": [
      "100%|████████████████████████████████████████████████████████████████████████████████| 938/938 [00:21<00:00, 44.44it/s]\n"
     ]
    },
    {
     "name": "stdout",
     "output_type": "stream",
     "text": [
      "Epoca: [51/60]\n"
     ]
    },
    {
     "name": "stderr",
     "output_type": "stream",
     "text": [
      "100%|████████████████████████████████████████████████████████████████████████████████| 938/938 [00:20<00:00, 44.99it/s]\n"
     ]
    },
    {
     "name": "stdout",
     "output_type": "stream",
     "text": [
      "Epoca: [52/60]\n"
     ]
    },
    {
     "name": "stderr",
     "output_type": "stream",
     "text": [
      "100%|████████████████████████████████████████████████████████████████████████████████| 938/938 [00:21<00:00, 43.87it/s]\n"
     ]
    },
    {
     "name": "stdout",
     "output_type": "stream",
     "text": [
      "Epoca: [53/60]\n"
     ]
    },
    {
     "name": "stderr",
     "output_type": "stream",
     "text": [
      "100%|████████████████████████████████████████████████████████████████████████████████| 938/938 [00:21<00:00, 43.65it/s]\n"
     ]
    },
    {
     "name": "stdout",
     "output_type": "stream",
     "text": [
      "Epoca: [54/60]\n"
     ]
    },
    {
     "name": "stderr",
     "output_type": "stream",
     "text": [
      "100%|████████████████████████████████████████████████████████████████████████████████| 938/938 [00:21<00:00, 44.17it/s]\n"
     ]
    },
    {
     "name": "stdout",
     "output_type": "stream",
     "text": [
      "Epoca: [55/60]\n"
     ]
    },
    {
     "name": "stderr",
     "output_type": "stream",
     "text": [
      "100%|████████████████████████████████████████████████████████████████████████████████| 938/938 [00:20<00:00, 44.92it/s]\n"
     ]
    },
    {
     "name": "stdout",
     "output_type": "stream",
     "text": [
      "Epoca: [56/60]\n"
     ]
    },
    {
     "name": "stderr",
     "output_type": "stream",
     "text": [
      "100%|████████████████████████████████████████████████████████████████████████████████| 938/938 [00:21<00:00, 43.10it/s]\n"
     ]
    },
    {
     "name": "stdout",
     "output_type": "stream",
     "text": [
      "Epoca: [57/60]\n"
     ]
    },
    {
     "name": "stderr",
     "output_type": "stream",
     "text": [
      "100%|████████████████████████████████████████████████████████████████████████████████| 938/938 [00:21<00:00, 44.43it/s]\n"
     ]
    },
    {
     "name": "stdout",
     "output_type": "stream",
     "text": [
      "Epoca: [58/60]\n"
     ]
    },
    {
     "name": "stderr",
     "output_type": "stream",
     "text": [
      "100%|████████████████████████████████████████████████████████████████████████████████| 938/938 [00:21<00:00, 44.24it/s]\n"
     ]
    },
    {
     "name": "stdout",
     "output_type": "stream",
     "text": [
      "Epoca: [59/60]\n"
     ]
    },
    {
     "name": "stderr",
     "output_type": "stream",
     "text": [
      "100%|████████████████████████████████████████████████████████████████████████████████| 938/938 [00:20<00:00, 46.37it/s]\n"
     ]
    },
    {
     "name": "stdout",
     "output_type": "stream",
     "text": [
      "Epoca: [60/60]\n"
     ]
    },
    {
     "name": "stderr",
     "output_type": "stream",
     "text": [
      "100%|████████████████████████████████████████████████████████████████████████████████| 938/938 [00:21<00:00, 44.30it/s]\n"
     ]
    }
   ],
   "source": [
    "for epoca in range(num_epocas):\n",
    "    minha_cnn.train()\n",
    "    print(f'Epoca: [{epoca+1}/{num_epocas}]')\n",
    "    for lote_index, (dados, y_true) in enumerate(tqdm(carrega_dados_treino)):\n",
    "        # movendo os dados e os targets para o CPU ou GPU:\n",
    "        dados = dados.to(device)\n",
    "        y_true = y_true.to(device)\n",
    "        \n",
    "        # forward pass: \n",
    "        y_pred = minha_cnn(dados)\n",
    "        \n",
    "        # zero grad:\n",
    "        otimizador.zero_grad()\n",
    "        \n",
    "        # loss:\n",
    "        loss = funcao_perda(y_pred, y_true)\n",
    "        \n",
    "        # backpropagation:\n",
    "        loss.backward()\n",
    "        \n",
    "        # atualiza parametros:\n",
    "        otimizador.step()"
   ]
  },
  {
   "cell_type": "markdown",
   "id": "08e0c1e5",
   "metadata": {},
   "source": [
    "## Testando a rede neural:\n",
    "\n",
    "Para identificar o desempenho da nossa CNN, vamos utilizar a métrica de erro de acurácia (média dos acertos obtidos) e precisão (média dos acertos obtidos em cada classe). "
   ]
  },
  {
   "cell_type": "code",
   "execution_count": 9,
   "id": "e04a7c81",
   "metadata": {},
   "outputs": [
    {
     "name": "stdout",
     "output_type": "stream",
     "text": [
      "Acurácia: 0.8679999709129333\n",
      "Precisão: 0.8679999709129333\n"
     ]
    }
   ],
   "source": [
    "acuracia = Accuracy(task = \"multiclass\", num_classes = 10)\n",
    "precisao = Precision(task = \"multiclass\", num_classes = 10)\n",
    "\n",
    "minha_cnn.eval()\n",
    "\n",
    "with torch.no_grad():\n",
    "    for imagem, rotulo in carrega_dados_teste:        \n",
    "        output = minha_cnn(imagem)\n",
    "        _, preds = torch.max(output, 1)\n",
    "        acuracia(preds, rotulo)\n",
    "        precisao(preds, rotulo)\n",
    "               \n",
    "testa_acuracia = acuracia.compute()\n",
    "testa_precisao = precisao.compute()\n",
    "\n",
    "print(f\"Acurácia: {testa_acuracia}\")\n",
    "\n",
    "print(f\"Precisão: {testa_precisao}\")"
   ]
  },
  {
   "cell_type": "code",
   "execution_count": 10,
   "id": "f650b505",
   "metadata": {},
   "outputs": [
    {
     "name": "stdout",
     "output_type": "stream",
     "text": [
      "preds: shape=torch.Size([16]), dtype=torch.int64\n",
      "rotulo: shape=torch.Size([16]), dtype=torch.int64\n"
     ]
    }
   ],
   "source": [
    "print(f\"preds: shape={preds.shape}, dtype={preds.dtype}\")\n",
    "print(f\"rotulo: shape={rotulo.shape}, dtype={rotulo.dtype}\")"
   ]
  },
  {
   "cell_type": "code",
   "execution_count": 11,
   "id": "a34be930",
   "metadata": {},
   "outputs": [
    {
     "name": "stdout",
     "output_type": "stream",
     "text": [
      "Valores únicos em preds: tensor([0, 1, 2, 4, 6, 7, 8, 9])\n",
      "Valores únicos em rotulo: tensor([0, 1, 2, 4, 5, 6, 7, 9])\n"
     ]
    }
   ],
   "source": [
    "print(f\"Valores únicos em preds: {preds.unique()}\")\n",
    "print(f\"Valores únicos em rotulo: {rotulo.unique()}\")"
   ]
  },
  {
   "cell_type": "markdown",
   "id": "bc47d647",
   "metadata": {},
   "source": [
    "## Conclusão:\n",
    "\n",
    "Notamos que a implementação e treinamento da nossa rede neural foi satisfatória ao analisarmos o desempenho da CNN, que apesar de não ter indicadores excelentes (acurácia e precisão abaixo de 90%), se saiu moderadamente bem. Os valores de 85% de acurácia e 85% de precisão indicam que a rede de fato aprendeu, não se apegou demais aos dados (não \"overfittou\") mas também generalizou moderadamente bem."
   ]
  },
  {
   "cell_type": "markdown",
   "id": "11a4bd8c",
   "metadata": {},
   "source": [
    "## Referências:\n",
    "\n"
   ]
  },
  {
   "cell_type": "markdown",
   "id": "a636dd83",
   "metadata": {},
   "source": [
    "[1] What is the use of SoftMax in CNN?. Geeks for Geeks, 2024. Disponível em: https://www.geeksforgeeks.org/why-should-softmax-be-used-in-cnn/\n",
    "\n",
    "[2] INGOLE, Mayur. Simple Convolutional Neural Network (CNN) for Dummies in PyTorch: A Step-by-Step Guide. Disponível em: https://medium.com/@myringoleMLGOD/simple-convolutional-neural-network-cnn-for-dummies-in-pytorch-a-step-by-step-guide-6f4109f6df80.\n",
    "\n",
    "[3] LUNA, Javier Canales. PyTorch CNN Tutorial: Build and Train Convolutional Neural Networks in Python. Disponível em: https://www.datacamp.com/tutorial/pytorch-cnn-tutorial.\n",
    "\n",
    "[4] Training a Classifier. Documentação PyTorch. Disponível em: https://pytorch.org/tutorials/beginner/blitz/cifar10_tutorial.html."
   ]
  }
 ],
 "metadata": {
  "kernelspec": {
   "display_name": "Python 3 (ipykernel)",
   "language": "python",
   "name": "python3"
  },
  "language_info": {
   "codemirror_mode": {
    "name": "ipython",
    "version": 3
   },
   "file_extension": ".py",
   "mimetype": "text/x-python",
   "name": "python",
   "nbconvert_exporter": "python",
   "pygments_lexer": "ipython3",
   "version": "3.11.5"
  }
 },
 "nbformat": 4,
 "nbformat_minor": 5
}
