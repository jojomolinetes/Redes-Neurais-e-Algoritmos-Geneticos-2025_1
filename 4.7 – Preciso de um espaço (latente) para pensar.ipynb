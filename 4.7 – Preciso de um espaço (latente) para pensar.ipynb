{
 "cells": [
  {
   "cell_type": "markdown",
   "id": "22ca7703",
   "metadata": {},
   "source": [
    "# 4.7 Preciso de um espaço (latente) para pensar\n",
    "\n",
    "**Nome: Joana de Medeiros Oliveira Hulse Molinete**"
   ]
  },
  {
   "cell_type": "markdown",
   "id": "3512a95f",
   "metadata": {},
   "source": [
    "### Introdução:\n",
    "\n",
    "Um autocodificador é um tipo de arquitetura de rede neural projetada para compactar (codificar) eficientemente dados de entrada até suas características essenciais e então reconstruir (decodificar) a entrada original a partir dessa representação compactada.\n",
    "\n",
    "Autocodificadores são treinados para descobrir variáveis latentes dos dados de entrada: variáveis ocultas ou aleatórias que, apesar de não serem diretamente observáveis, informam fundamentalmente a forma como os dados são distribuídos. Coletivamente, as variáveis latentes de um determinado conjunto de dados de entrada são chamadas de espaço latente. Durante o treinamento, o autocodificador aprende quais variáveis latentes podem ser usadas para reconstruir os dados originais com mais precisão: essa representação do espaço latente, portanto, representa apenas as informações mais essenciais contidas na entrada original. Os codificadores descobrem as variáveis latentes ao passar os dados de entrada por um \"gargalo\" antes de chegarem ao decodificador. Isso força o codificador a aprender a extrair e passar para frente apenas as informações mais importantes para reconstruir a entrada original.\n",
    "\n",
    "Apesar de não precisarem de validação externa, autoencoders não podem ser classificados como modelos não-supervisionados, já que tem como objetivo a reconstrução da própria entrada, que também servem de comparação para a saída. Por isso, são classificados como modelos autossupervisionados — daí o nome \"autocodificador\"."
   ]
  },
  {
   "cell_type": "markdown",
   "id": "e130cb97",
   "metadata": {},
   "source": [
    "### Autoencoders Variacionais:\n",
    "\n",
    "Autocodificadores variacionais (VAEs) adaptam a arquitetura do autoencoder original para uso em tarefas generativas, onde o decodificador gera novas amostras de dados. Ao invés de reproduzir uma representação direta do espaço latente (como os encoders usuais), produz dois conjuntos de parâmetros: um de médias (μ) e um do logaritmo das variâncias (σ²). A representação latente (z) é amostrada dessa distribuição Gaussiana usando o truque de reparametrização, que separa a parte estocástica da parte determinística do cálculo.\n",
    "Para gerar uma nova amostra, o VAE amostra um vetor latente aleatório (ε) de dentro da distribuição Gaussiana — basicamente, seleciona um ponto de partida aleatório de dentro da distribuição normal — desloca-o pela média da distribuição latente (μ) e o dimensiona pela variância da distribuição latente (σ).\n",
    " \n",
    "Os VAEs aprendem a codificar aprendizados de recursos importantes a partir das entradas nos conjuntos de dados nos quais são treinados de uma forma flexível e aproximada, o que permite gerar novas amostras que se assemelham aos dados de treinamento originais."
   ]
  },
  {
   "cell_type": "markdown",
   "id": "474b3ace",
   "metadata": {},
   "source": [
    "### Importando as bibliotecas necessárias e definindo os hiperparâmetros:"
   ]
  },
  {
   "cell_type": "code",
   "execution_count": 1,
   "id": "c087c359",
   "metadata": {},
   "outputs": [],
   "source": [
    "import numpy as np\n",
    "import torch\n",
    "import torch.nn as nn\n",
    "import torch.nn.functional as functional\n",
    "import torch.optim as optim\n",
    "from torchvision import datasets, transforms\n",
    "from torchvision.utils import save_image, make_grid\n",
    "from torch.utils.data import DataLoader\n",
    "from tqdm import tqdm\n",
    "\n",
    "entrada = 784 # 28x28 pixels\n",
    "num_classes = 10 # 0-9\n",
    "taxa_aprendizado = 0.001\n",
    "num_epocas = 30\n",
    "tamanho_lote = 100\n",
    "hidden_dim = 400 # n° de neurônios ocultos em cada camada\n",
    "latent_dim = 200 # tamanho do vetor z compactado"
   ]
  },
  {
   "cell_type": "code",
   "execution_count": 2,
   "id": "4ae312b1",
   "metadata": {},
   "outputs": [],
   "source": [
    "device = torch.device(\"cuda\" if torch.cuda.is_available() else \"cpu\")\n",
    "mnist_transform = transforms.Compose([transforms.ToTensor(),])\n",
    "kwargs = {'num_workers': 1, 'pin_memory': True} # key arguments\n",
    "\n",
    "dataset_treino = datasets.MNIST(root='dataset/', download=True, train=True, transform=mnist_transform)\n",
    "carrega_dados_treino = DataLoader(dataset=dataset_treino, batch_size=tamanho_lote, shuffle=True, **kwargs) # aqui **kwargs vai desempacotar o dicionário\n",
    "\n",
    "dataset_teste = datasets.MNIST(root='dataset/', download=True, train=False, transform=mnist_transform)\n",
    "carrega_dados_teste = DataLoader(dataset=dataset_teste, batch_size=tamanho_lote, shuffle=True, **kwargs)"
   ]
  },
  {
   "cell_type": "markdown",
   "id": "b785deed",
   "metadata": {},
   "source": [
    "### Bloco encoder:\n",
    "\n",
    "Aqui, definimos a arquitetura da parte codificadora da nossa rede, que recebe as entradas e codifica sua representação nas camadas totalmente conectadas. Usamos a função LeakyReLU ao invés da ReLU, pois ela impede que o gradiente zere quando o neurônio recebe um valor negativo. Precisamos modelar uma distribuição gaussiana N(μ,σ^2), então precisamos de dois vetores de saída: a média e a variância da distribuição. Aqui, trabalhamos com o logaritmo da variância, pois fornece maior estabilidade para a rede."
   ]
  },
  {
   "cell_type": "code",
   "execution_count": 3,
   "id": "7623833a",
   "metadata": {},
   "outputs": [],
   "source": [
    "class Encoder(nn.Module):\n",
    "    def __init__(self, input_dim, hidden_dim, latent_dim):\n",
    "        super(Encoder, self).__init__()\n",
    "        # aplicando camadas lineares para compactar os vetores:\n",
    "        self.FC_input = nn.Linear(input_dim, hidden_dim) # camada fully-connected que comprime os dados de entrada (vetor de 784 valores) nas camadas ocultas (vetor de 400 valores)\n",
    "        self.FC_input2 = nn.Linear(hidden_dim, hidden_dim) # repete o processo da primeira camada fully-connected, mas dessa vez mantendo a dimensão para aumentar a profundidade\n",
    "    \n",
    "        self.FC_mean =nn.Linear(hidden_dim, latent_dim) # gera o vetor de médias \n",
    "        self.FC_var = nn.Linear(hidden_dim, latent_dim) # gera o logaritmo das variâncias\n",
    "        \n",
    "        self.LeakyReLU = nn.LeakyReLU(0.2) # se a entrada for positiva a informação passa igual, se for negativa passa apenas 20% (slope = 0.2)\n",
    "        \n",
    "    def forward(self, x):\n",
    "        z_ = self.LeakyReLU(self.FC_input(x))\n",
    "        z_ = self.LeakyReLU(self.FC_input2(z_))\n",
    "        mean = self.FC_mean(z_) # projeta o vetor z (hidden_dim) em um vetor de médias de dimensão latent_dim (200 valores)\n",
    "        log_var = self.FC_var(z_) # projeta o vetor z (hidden_dim) em um vetor do log-variância de dimensão latent_dim (200 valores)\n",
    "        \n",
    "        return mean, log_var    "
   ]
  },
  {
   "cell_type": "markdown",
   "id": "f57fdd78",
   "metadata": {},
   "source": [
    "### Bloco decoder:\n",
    "\n",
    "Agora que definimos a codificação, vamos definir como funcionará o decodificador, que vai receber como entrada a saída comprimida da camada de amostragem e reconstruir a imagem original tendo como ponto de partida o vetor z.\n",
    "Para descomprimir os dados, aplicamos uma função sigmoidal em cada componente de x reconstruído, projetando o valor entre 0 e 1, para que a função de perda (Binary Cross-Entropy) possa interpretar como probabilidades futuramente."
   ]
  },
  {
   "cell_type": "code",
   "execution_count": 4,
   "id": "129ac8d1",
   "metadata": {},
   "outputs": [],
   "source": [
    "class Decoder(nn.Module):\n",
    "    def __init__(self, latent_dim, hidden_dim, output_dim):\n",
    "        super(Decoder, self).__init__()\n",
    "        self.FC_hidden = nn.Linear(latent_dim, hidden_dim) # expande a saída do encoder (200 valores) de volta para um vetor de 400 valores\n",
    "        self.FC_hidden2 = nn.Linear(hidden_dim, hidden_dim) # 400 -> 400 + LeakyReLU\n",
    "        self.FC_output = nn.Linear(hidden_dim, output_dim) # gera o vetor reconstruído de x (400 -> 784)\n",
    "        \n",
    "        self.LeakyReLU = nn.LeakyReLU(0.2)\n",
    "        \n",
    "    def forward(self, x):\n",
    "        z = self.LeakyReLU(self.FC_hidden(x))\n",
    "        z = self.LeakyReLU(self.FC_hidden2(z))\n",
    "        \n",
    "        x_reconstruido = torch.sigmoid(self.FC_output(z)) # garante que x_reconstruído siga uma distribuição entre 0 e 1\n",
    "        return x_reconstruido"
   ]
  },
  {
   "cell_type": "markdown",
   "id": "b08e46c9",
   "metadata": {},
   "source": [
    "### Conectando nosso modelo VAE:\n",
    "\n",
    "Agora que definimos as duas partes principais de uma rede autocodificadora, podemos combiná-las em um modelo completo. Também utilizaremos o truque de reparametrização aqui, permitindo que os gradientes fluam através das operações de amostragem.\n",
    "Queremos que o vetor z siga uma distribuição normal N(μ,σ²), e que ainda nos permita calcular os gradientes (ou seja, mantendo a diferenciabilidade do modelo). Para isso, aplicamos o truque de reparametrização, que basicamente move a variável aleatória (epsilon) para fora da operação de amostragem da distribuição. Assim, mesmo incorporando um elemento estocástico ainda conseguimos propagar os gradientes dos parâmetros, porque eles não dependem do ruído criado."
   ]
  },
  {
   "cell_type": "code",
   "execution_count": 5,
   "id": "62b2c8e8",
   "metadata": {},
   "outputs": [],
   "source": [
    "class VAE(nn.Module):\n",
    "    def __init__(self, Encoder, Decoder):\n",
    "        super(VAE, self).__init__()\n",
    "        self.Encoder = Encoder\n",
    "        self.Decoder = Decoder\n",
    "        \n",
    "    def reparametrizacao(self, mean, var):\n",
    "        epsilon = torch.randn_like(var).to(device) # cria um tensor de ruído com a mesma forma de (var), de onde amostra o epsilon\n",
    "        z = mean + (var * epsilon) # reparametrização\n",
    "        return z\n",
    "    \n",
    "    def forward(self, x):\n",
    "        mean, log_var = self.Encoder(x)\n",
    "        std = torch.exp(0.5 * log_var) # transforma a variância em desvio padrão\n",
    "        z = self.reparametrizacao(mean, std) # aplica a reparametrização\n",
    "        x_reconstruido = self.Decoder(z)\n",
    "        return x_reconstruido, mean, log_var"
   ]
  },
  {
   "cell_type": "markdown",
   "id": "4e4221a7",
   "metadata": {},
   "source": []
  },
  {
   "cell_type": "code",
   "execution_count": 6,
   "id": "ea732436",
   "metadata": {},
   "outputs": [],
   "source": [
    "encoder = Encoder(input_dim = entrada, hidden_dim = hidden_dim, latent_dim = latent_dim)\n",
    "decoder = Decoder(latent_dim = latent_dim, hidden_dim = hidden_dim, output_dim = entrada)\n",
    "minha_vae = VAE(Encoder = encoder, Decoder = decoder).to(device)"
   ]
  },
  {
   "cell_type": "markdown",
   "id": "96618398",
   "metadata": {},
   "source": [
    "### Função de perda: Binary Cross-Entropy\n",
    "\n",
    "Utilizar a função Binary Cross-Entropy (BCE) nos permite medir a qualidade de reconstrução da nossa rede, ou seja, quão parecido está a saída (x_reconstruído) da entrada (x), somando o erro em cada pixel. Já a divergência de Kullback-Leibler (KL divergence ou entropia relativa) é uma medida da diferença entre duas distribuições, que indica quanta informação foi perdida quando tentamos aproximar um valor Q dado P (um valor qualquer). Quando temos uma KLD próxima a 0, podemos afirmar que as distribuições P e Q são muito parecidas, e quanto mais próximo de 1 for o valor de KLD mais as distribuições se comportam de forma diferente entre si. Resumindo, o KLD quantifica o desvio entre a distribuição latente e a distribuição normal N(0,I)."
   ]
  },
  {
   "cell_type": "code",
   "execution_count": 7,
   "id": "42513f0d",
   "metadata": {},
   "outputs": [],
   "source": [
    "BCE_loss = nn.BCELoss()\n",
    "\n",
    "def binary_cross_entropy_treino(x, x_reconstruido, mean, log_var):\n",
    "    reconstruction_loss = nn.functional.binary_cross_entropy(x_reconstruido, x, reduction='sum') # soma os erros de todos os pixels\n",
    "    KL_divergence = -0.5 * torch.sum(1 + log_var - mean.pow(2) - log_var.exp()) # mede a divergência entre a média e variância quando comparada com uma distribuição normal\n",
    "    \n",
    "    return reconstruction_loss + KL_divergence"
   ]
  },
  {
   "cell_type": "markdown",
   "id": "835efa70",
   "metadata": {},
   "source": [
    "### Otimizador Adam\n",
    "\n",
    "O otimizador Adam [6] (Adaptive Moment Estimation) funciona com base em dois processos de otimização: o de descida de gradiente com operador momentum [8] e RMSprop (Propagação da Raiz Quadrática Média), que aplica um escalonamento adaptativo nos pesos calculando a média móvel ponderada exponencialmente dos gradientes quadrados. Combinando os dois, o otimizador ADAM ajusta a taxa de aprendizado de cada peso com base na média e variação dos gradientes. É muito vantajoso utilizar o ADAM como otimizador para autoencoders variacionais por lidar bem com gradientes de variâncias que podem ter escalas diferentes e com a diferença estocástica entre as atualizações."
   ]
  },
  {
   "cell_type": "code",
   "execution_count": 8,
   "id": "01f85c44",
   "metadata": {},
   "outputs": [],
   "source": [
    "from  torch.optim import Adam\n",
    "\n",
    "otimizador = Adam(minha_vae.parameters(), lr = taxa_aprendizado)"
   ]
  },
  {
   "cell_type": "markdown",
   "id": "05abe06d",
   "metadata": {},
   "source": [
    "### Treinando a rede neural:"
   ]
  },
  {
   "cell_type": "code",
   "execution_count": 9,
   "id": "1cac92ae",
   "metadata": {},
   "outputs": [
    {
     "name": "stdout",
     "output_type": "stream",
     "text": [
      "Começando o treinamento...\n",
      "Época: 1 completa! Perda média: 173.89463185713169\n",
      "Época: 2 completa! Perda média: 129.10586071186353\n",
      "Época: 3 completa! Perda média: 116.98578408675918\n",
      "Época: 4 completa! Perda média: 112.44347905689169\n",
      "Época: 5 completa! Perda média: 109.88333059982784\n",
      "Época: 6 completa! Perda média: 108.18995092732679\n",
      "Época: 7 completa! Perda média: 107.03088493843906\n",
      "Época: 8 completa! Perda média: 106.08922859714107\n",
      "Época: 9 completa! Perda média: 105.41410265481532\n",
      "Época: 10 completa! Perda média: 104.86660885003651\n",
      "Época: 11 completa! Perda média: 104.38247373552275\n",
      "Época: 12 completa! Perda média: 103.9394722975793\n",
      "Época: 13 completa! Perda média: 103.4974794090411\n",
      "Época: 14 completa! Perda média: 103.19715862700856\n",
      "Época: 15 completa! Perda média: 102.78267953098914\n",
      "Época: 16 completa! Perda média: 102.40334980501356\n",
      "Época: 17 completa! Perda média: 102.17235496661102\n",
      "Época: 18 completa! Perda média: 101.9453091578412\n",
      "Época: 19 completa! Perda média: 101.73491781549978\n",
      "Época: 20 completa! Perda média: 101.56547297253235\n",
      "Época: 21 completa! Perda média: 101.30917386725271\n",
      "Época: 22 completa! Perda média: 101.19724566986645\n",
      "Época: 23 completa! Perda média: 101.06072996008973\n",
      "Época: 24 completa! Perda média: 100.9245517268364\n",
      "Época: 25 completa! Perda média: 100.77668053526712\n",
      "Época: 26 completa! Perda média: 100.65689133582012\n",
      "Época: 27 completa! Perda média: 100.48645714863314\n",
      "Época: 28 completa! Perda média: 100.43337623252296\n",
      "Época: 29 completa! Perda média: 100.35847662771286\n",
      "Época: 30 completa! Perda média: 100.21093715763251\n",
      "Processamento finalizado!\n"
     ]
    }
   ],
   "source": [
    "print(\"Começando o treinamento...\")\n",
    "minha_vae.train()\n",
    "\n",
    "for epoca in range(num_epocas):\n",
    "    loss_total = 0\n",
    "    \n",
    "    for batch_index, (x, _) in enumerate(carrega_dados_treino):\n",
    "        x = x.view(tamanho_lote, entrada) # achata a imagem\n",
    "        x = x.to(device)\n",
    "        \n",
    "        # zero grad:\n",
    "        otimizador.zero_grad()\n",
    "        \n",
    "        # forward pass:\n",
    "        x_reconstruido, mean, log_var = minha_vae(x)\n",
    "        \n",
    "        # loss:\n",
    "        loss = binary_cross_entropy_treino(x, x_reconstruido, mean, log_var)\n",
    "        loss_total += loss.item()\n",
    "        \n",
    "        # backpropagation:\n",
    "        loss.backward()\n",
    "        \n",
    "        # atualiza parâmetros:\n",
    "        otimizador.step()\n",
    "        \n",
    "    print(f'Época: {epoca +1} completa!', f\"Perda média: {loss_total / (batch_index * tamanho_lote)}\")\n",
    "    \n",
    "print(\"Processamento finalizado!\")"
   ]
  },
  {
   "cell_type": "markdown",
   "id": "dba50f58",
   "metadata": {},
   "source": [
    "### Testando nossa rede neural:\n",
    "\n",
    "Diferente do treino, no teste nós usamos a função de perda BCE configurada com um cálculo de redução de média (reduction = \"mean\"), por dois motivos principais: primeiro porque nos permite uma maior flexibilidade de interpretação, tanto em quesito de comparação entre os exemplos de teste e o treino, quanto entre modelos; outro motivo é a escala em que colocamos a redução, que nesse caso é o erro médio por pixel e por exemplo."
   ]
  },
  {
   "cell_type": "code",
   "execution_count": 10,
   "id": "4349b75b",
   "metadata": {},
   "outputs": [],
   "source": [
    "def binary_cross_entropy_teste(x, x_reconstruido, mean, log_var):\n",
    "    reproduction_loss = nn.functional.binary_cross_entropy(x_reconstruido, x, reduction='mean') # faz a média dos erros de todos os pixels\n",
    "    kld = -0.5 * torch.sum(1 + log_var - mean.pow(2) - log_var.exp()) # mede a divergência da distribuição normal da média e variância para N(0, 1)\n",
    "    \n",
    "    return reproduction_loss, kld"
   ]
  },
  {
   "cell_type": "code",
   "execution_count": 11,
   "id": "ce0e64a5",
   "metadata": {},
   "outputs": [
    {
     "name": "stdout",
     "output_type": "stream",
     "text": [
      "No teste obtivemos como BCE médio: 0.0990 e como KLD médio: 22.7309\n"
     ]
    }
   ],
   "source": [
    "minha_vae.eval()\n",
    "\n",
    "bce_total = 0\n",
    "kld_total = 0\n",
    "batches = 0\n",
    "\n",
    "batch_to_plot = None\n",
    "\n",
    "with torch.no_grad():\n",
    "    for x, _ in carrega_dados_teste:\n",
    "        # achatando e enviando para GPU:\n",
    "        x = x.view(x.size(0), -1).to(device)\n",
    "        \n",
    "        # forward pass:\n",
    "        x_reconstruido, mean, log_var = minha_vae(x)\n",
    "        \n",
    "        # reconstrução e KLD médios:\n",
    "        rep_loss, kld = binary_cross_entropy_teste(x, x_reconstruido, mean, log_var)\n",
    "        kld = kld / x.size(0)\n",
    "        \n",
    "        bce_total += rep_loss.item()\n",
    "        kld_total += kld.item()\n",
    "        batches += 1\n",
    "        \n",
    "        if batch_to_plot is None:\n",
    "            batch_to_plot = (x.cpu(), x_reconstruido.cpu())\n",
    "        \n",
    "bce_medio = bce_total / batches\n",
    "kld_medio = kld_total / batches\n",
    "\n",
    "print(f\"No teste obtivemos como BCE médio: {bce_medio:.4f} e como KLD médio: {kld_medio:.4f}\")"
   ]
  },
  {
   "cell_type": "markdown",
   "id": "4457cf7d",
   "metadata": {},
   "source": [
    "### Visualizando:\n",
    "\n",
    "Para fins de comparação, vamos plotar nossas imagens originais do MNIST com as saídas do modelo, ou seja, as reconstruções obtidas."
   ]
  },
  {
   "cell_type": "code",
   "execution_count": 13,
   "id": "02a30890",
   "metadata": {},
   "outputs": [
    {
     "data": {
      "image/png": "[encoded data removed]",
      "text/plain": [
       "<Figure size 1350x300 with 18 Axes>"
      ]
     },
     "metadata": {},
     "output_type": "display_data"
    }
   ],
   "source": [
    "import matplotlib.pyplot as plt\n",
    "\n",
    "originais, reconstrucoes = batch_to_plot # tupla com dois tensores\n",
    "\n",
    "originais = originais.view(-1, 1, 28, 28)\n",
    "reconstrucoes = reconstrucoes.view(-1, 1, 28, 28)\n",
    "\n",
    "n = 9\n",
    "fig, axes = plt.subplots(2, n, figsize=(n*1.5, 3))\n",
    "for i in range(n):\n",
    "    axes[0, i].imshow(originais[i].squeeze(), cmap='gray', interpolation='none')\n",
    "    axes[0, i].axis('off')\n",
    "    axes[1, i].imshow(reconstrucoes[i].squeeze(), cmap='gray', interpolation='none')\n",
    "    axes[1, i].axis('off')\n",
    "plt.tight_layout()\n",
    "plt.show()"
   ]
  },
  {
   "cell_type": "markdown",
   "id": "db585424",
   "metadata": {},
   "source": [
    "### Conclusão:\n",
    "\n",
    "Ao longo da atividade, foram abordados conceitos fundamentais sobre autoencoders, usados para a construção da sua arquitetura e aplicação em dados reais, com um destaque nos autoencoders Variacionais, uma extensão dos autoencoders tradicionais que foram capazes de gerar novas amostras de dados a partir da distribuição latente aprendida, como observado no exemplo visual. \n",
    "\n",
    "A visualização das imagens reconstruídas permitiu validar qualitativamente o funcionamento do modelo, conseguimos observar que as reconstruções obtidas pela VAE preservaram as características principais das imagens originais, o que evidencia que nossa rede aprendeu uma representação significativa do espaço latente. Aplicamos a divergência de Kullback-Leibler e o truque de reparametrização como soluções para os problemas do balanceamento entre a qualidade da reconstrução e a regularização do espaço latente."
   ]
  },
  {
   "cell_type": "markdown",
   "id": "d1536633",
   "metadata": {},
   "source": [
    "### Referências:\"\n",
    "\n",
    "[1] BERGMANN, Dave; STRYKER, Cole. What is an autoencoder? IBM, 2023. Disponível em: https://www.ibm.com/think/topics/autoencoder.\n",
    "\n",
    "[2] IPPOLITO, Pier Paolo. Introduction to Autoencoders: From The Basics to Advanced Applications in PyTorch. Geeks for geeks, 2023. Disponível em: https://www.datacamp.com/tutorial/introduction-to-autoencoders.\n",
    "\n",
    "[3] Variacional Autoencoders. Geeks for geeks, 2025. Disponível em: https://www.geeksforgeeks.org/variational-autoencoders/.\n",
    "\n",
    "[4] NLP From Scratch: Translation with a Sequence to Sequence Network and Attention. Pytorch Tutorials, 2017. Disponível em: https://pytorch.org/tutorials/intermediate/seq2seq_translation_tutorial.html#exercises.\n",
    "\n",
    "[5] JONES, Llion. The reparameterization trick. Medium, 2017. Disponível em: https://medium.com/@llionj/the-reparameterization-trick-4ff30fe92954. \n",
    "\n",
    "[6] What is Adam Optimizer? Geeks for geeks, 2025. Disponível em: https://www.geeksforgeeks.org/adam-optimizer/.\n",
    "\n",
    "[7] MOLINETE, Joana. Notebook 4.5 \"Um momento, por favor!\" Otimizador gradient descent with momentum, 2025.\n",
    "\n",
    "[8] Many ways to plot images. Dcoumentação Matplotlib. Disponível em: https://matplotlib.org/stable/gallery/images_contours_and_fields/image_demo.html.\n",
    "\n",
    "[9] Create multiple subplots using plt.subplots. Documentação Matplotlib. Disponível em: https://matplotlib.org/stable/gallery/subplots_axes_and_figures/subplots_demo.html."
   ]
  }
 ],
 "metadata": {
  "kernelspec": {
   "display_name": "Python 3 (ipykernel)",
   "language": "python",
   "name": "python3"
  },
  "language_info": {
   "codemirror_mode": {
    "name": "ipython",
    "version": 3
   },
   "file_extension": ".py",
   "mimetype": "text/x-python",
   "name": "python",
   "nbconvert_exporter": "python",
   "pygments_lexer": "ipython3",
   "version": "3.11.5"
  }
 },
 "nbformat": 4,
 "nbformat_minor": 5
}
